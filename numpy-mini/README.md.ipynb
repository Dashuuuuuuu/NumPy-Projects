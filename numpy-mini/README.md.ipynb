{
  "nbformat": 4,
  "nbformat_minor": 0,
  "metadata": {
    "colab": {
      "provenance": []
    },
    "kernelspec": {
      "name": "python3",
      "display_name": "Python 3"
    },
    "language_info": {
      "name": "python"
    }
  },
  "cells": [
    {
      "cell_type": "code",
      "execution_count": null,
      "metadata": {
        "id": "mWyKJ0afITJ4"
      },
      "outputs": [],
      "source": []
    },
    {
      "cell_type": "markdown",
      "source": [
        "NumPy\n",
        "Mathematical Calculator\n",
        "\n",
        "Objective:\n",
        "\n",
        "To build a Python-based calculator using the NumPy library that performs:\n",
        "\n",
        "Basic arithmetic operations\n",
        "\n",
        "Statistical analysis\n",
        "\n",
        "Array manipulation\n",
        "\n",
        "This project helps students understand how NumPy is used in real-world numerical computing tasks.\n",
        "\n",
        "* Key Features:\n",
        "\n",
        "1. Basic Arithmetic Operations\n",
        "\n",
        "Addition, Subtraction, Multiplication, Division\n",
        "\n",
        "Power operations between two arrays\n",
        "\n",
        "2. Statistical Operations\n",
        "\n",
        "Mean, Median, Standard Deviation, Variance\n",
        "\n",
        "Minimum, Maximum, Sum, Product\n",
        "\n",
        "Shape, Size, and Data Type\n",
        "\n",
        "3. Array Manipulation\n",
        "\n",
        "Reshaping arrays (when possible)\n",
        "\n",
        "Sorting and Reverse Sorting\n",
        "\n",
        "Unique value extraction\n",
        "\n",
        "Accessing first and last elements\n",
        "\n",
        "Filtering values greater than the mean\n"
      ],
      "metadata": {
        "id": "Eql5jgVPIT4q"
      }
    }
  ]
}